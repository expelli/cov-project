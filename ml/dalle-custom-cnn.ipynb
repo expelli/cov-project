{
 "cells": [
  {
   "cell_type": "code",
   "execution_count": null,
   "metadata": {},
   "outputs": [],
   "source": [
    "import imp\n",
    "import os\n",
    "import tensorflow as tf\n",
    "import tensorflow.keras as keras\n",
    "import numpy as np\n",
    "import glob\n",
    "import cv2\n",
    "import PIL\n",
    "import matplotlib.pyplot as plt\n",
    "from pyMLaux.functions import evaluate_classification_result, plot_history"
   ]
  },
  {
   "attachments": {},
   "cell_type": "markdown",
   "metadata": {},
   "source": [
    "# DALLE both datasets: custom cnn model\n",
    "Check for GPU"
   ]
  },
  {
   "cell_type": "code",
   "execution_count": null,
   "metadata": {},
   "outputs": [],
   "source": [
    "tf.get_logger().setLevel('ERROR')\n",
    "\n",
    "device_name = tf.test.gpu_device_name()\n",
    "if device_name != '/device:GPU:0':\n",
    "    raise SystemError('GPU device not found')\n",
    "print('Found GPU at: {}'.format(device_name))"
   ]
  },
  {
   "attachments": {},
   "cell_type": "markdown",
   "metadata": {},
   "source": [
    "Basic constants"
   ]
  },
  {
   "cell_type": "code",
   "execution_count": null,
   "metadata": {},
   "outputs": [],
   "source": [
    "data_dir = \"./../data/dalle-merged\"\n",
    "data_dir_test = \"./../data/rome-validation\"\n",
    "batch_size = 16\n",
    "number_images = 50\n",
    "image_height = 224\n",
    "image_width = 224\n",
    "nr_color_channels = 3\n",
    "seed = 2023"
   ]
  },
  {
   "attachments": {},
   "cell_type": "markdown",
   "metadata": {},
   "source": [
    "Create ImageDataGenerator for data augmentation of training data"
   ]
  },
  {
   "cell_type": "code",
   "execution_count": null,
   "metadata": {},
   "outputs": [],
   "source": [
    "datagen = keras.preprocessing.image.ImageDataGenerator(rescale=(1. / 255),\n",
    "                                   shear_range=0.1,\n",
    "                                   zoom_range=0.1,\n",
    "                                   rotation_range=10,\n",
    "                                   horizontal_flip=True,\n",
    "                                   fill_mode='constant',\n",
    "                                   cval=0)"
   ]
  },
  {
   "attachments": {},
   "cell_type": "markdown",
   "metadata": {},
   "source": [
    "Get training data"
   ]
  },
  {
   "cell_type": "code",
   "execution_count": null,
   "metadata": {},
   "outputs": [],
   "source": [
    "img_train = datagen.flow_from_directory(data_dir, target_size=(image_width,image_height), \n",
    "                                                    batch_size=batch_size, seed=seed,\n",
    "                                                    class_mode='categorical')\n",
    "img_train"
   ]
  },
  {
   "attachments": {},
   "cell_type": "markdown",
   "metadata": {},
   "source": [
    "Get test data"
   ]
  },
  {
   "cell_type": "code",
   "execution_count": null,
   "metadata": {},
   "outputs": [],
   "source": [
    "img_test = datagen.flow_from_directory(data_dir_test, target_size=(image_width,image_height), \n",
    "                                                    batch_size=batch_size, seed=seed,\n",
    "                                                    class_mode='categorical')\n",
    "img_test"
   ]
  },
  {
   "attachments": {},
   "cell_type": "markdown",
   "metadata": {},
   "source": [
    "Build model\n",
    "\n",
    "model architecture based on: https://www.kaggle.com/code/tejaswi2003/20bd1a6637-weather-classification-cnn "
   ]
  },
  {
   "cell_type": "code",
   "execution_count": null,
   "metadata": {},
   "outputs": [],
   "source": [
    "model = tf.keras.models.Sequential()\n",
    "model.add(keras.layers.Conv2D(32,activation=\"relu\",kernel_size=3,input_shape=(image_width, image_height, 3)))\n",
    "model.add(keras.layers.MaxPooling2D((2,2),padding='same'))\n",
    "model.add(keras.layers.Conv2D(64,activation=\"relu\",kernel_size=3))\n",
    "model.add(keras.layers.MaxPooling2D((2,2),padding='same'))\n",
    "model.add(keras.layers.Conv2D(128,activation=\"relu\",kernel_size=3))\n",
    "model.add(keras.layers.MaxPooling2D((2,2),padding='same'))\n",
    "model.add(keras.layers.Flatten())\n",
    "model.add(keras.layers.Dense(100,activation=\"relu\"))\n",
    "model.add(keras.layers.Dense(5,activation=\"softmax\"))\n"
   ]
  },
  {
   "attachments": {},
   "cell_type": "markdown",
   "metadata": {},
   "source": [
    "Create model checkpoints"
   ]
  },
  {
   "cell_type": "code",
   "execution_count": null,
   "metadata": {},
   "outputs": [],
   "source": [
    "filepath = \"./\" + 'models/dalle_custom/dalle_custom_{epoch:02d}-{val_accuracy:.4f}.hdf5'\n",
    "check_point = tf.keras.callbacks.ModelCheckpoint(filepath, monitor='val_accuracy', verbose=1,\n",
    "                                                save_best_only=True, mode='max')"
   ]
  },
  {
   "cell_type": "code",
   "execution_count": null,
   "metadata": {},
   "outputs": [],
   "source": [
    "callbacks_list = [check_point]"
   ]
  },
  {
   "cell_type": "code",
   "execution_count": null,
   "metadata": {},
   "outputs": [],
   "source": [
    "model.compile(loss='categorical_crossentropy',\n",
    "                  optimizer=keras.optimizers.RMSprop(learning_rate=2e-5),\n",
    "                  metrics=['accuracy'])"
   ]
  },
  {
   "cell_type": "code",
   "execution_count": null,
   "metadata": {},
   "outputs": [],
   "source": [
    "history = model.fit(img_train,\n",
    "                    steps_per_epoch=((len(img_train.filenames)) // batch_size), \n",
    "                    epochs=25,\n",
    "                    validation_data=img_test, \n",
    "                    validation_steps=(len(img_test.filenames) // batch_size),\n",
    "                    callbacks=callbacks_list)"
   ]
  },
  {
   "attachments": {},
   "cell_type": "markdown",
   "metadata": {},
   "source": [
    "Evaluate model"
   ]
  },
  {
   "cell_type": "code",
   "execution_count": null,
   "metadata": {},
   "outputs": [],
   "source": [
    "plot_history(history)"
   ]
  },
  {
   "attachments": {},
   "cell_type": "markdown",
   "metadata": {},
   "source": [
    "Load best model"
   ]
  },
  {
   "cell_type": "code",
   "execution_count": null,
   "metadata": {},
   "outputs": [],
   "source": [
    "model = keras.models.load_model(\"./models/dalle_custom/dalle_custom_20-0.8958.hdf5\")\n",
    "pred = model.predict(img_test, steps=len(img_test.filenames))"
   ]
  },
  {
   "cell_type": "code",
   "execution_count": null,
   "metadata": {},
   "outputs": [],
   "source": [
    "keras.utils.plot_model(model)"
   ]
  },
  {
   "cell_type": "code",
   "execution_count": null,
   "metadata": {},
   "outputs": [],
   "source": [
    "evaluate_classification_result(img_test.classes, pred,classes=[\"foggy\",\"cloudy\",\"sunny\",\"snowy\",\"rainy\"])"
   ]
  }
 ],
 "metadata": {
  "kernelspec": {
   "display_name": "cov-project",
   "language": "python",
   "name": "python3"
  },
  "language_info": {
   "codemirror_mode": {
    "name": "ipython",
    "version": 3
   },
   "file_extension": ".py",
   "mimetype": "text/x-python",
   "name": "python",
   "nbconvert_exporter": "python",
   "pygments_lexer": "ipython3",
   "version": "3.9.16 (main, Jan 11 2023, 16:16:36) [MSC v.1916 64 bit (AMD64)]"
  },
  "orig_nbformat": 4,
  "vscode": {
   "interpreter": {
    "hash": "4d1d88e12a3e7b2d17d5d96f970bc74ffff937e7f175d374c649e2d359dbd803"
   }
  }
 },
 "nbformat": 4,
 "nbformat_minor": 2
}
