{
 "cells": [
  {
   "cell_type": "code",
   "execution_count": 1,
   "metadata": {},
   "outputs": [],
   "source": [
    "import os\n",
    "from base64 import b64decode\n",
    "import openai\n",
    "from datetime import datetime \n",
    "from tqdm.notebook import tqdm\n",
    "from enum import Enum\n",
    "import time\n",
    "from glob import glob\n",
    "from PIL import Image\n",
    "import random\n",
    "\n",
    "class WeatherType(Enum):\n",
    "    cloudy = 1,\n",
    "    foggy = 2,\n",
    "    rainy =3 ,\n",
    "    snowy = 4,\n",
    "    sunny =5\n",
    "\n",
    "base = \"%s in %s weather\"\n",
    "\n",
    "locations = [\"city place\", \"contry road\", \"city\",\"county side\",\"mountain\",\"city road\", \"buildings\",\"garden\",\"river\",\"forrest\",\"sea\", \"island\"]\n",
    "\n",
    "weatherStrings = {\n",
    "    WeatherType.cloudy:\"cloudy\",\n",
    "    WeatherType.foggy:\"foggy\",\n",
    "    WeatherType.rainy:\"rainy\",\n",
    "    WeatherType.snowy:\"snowy\",\n",
    "    WeatherType.sunny:\"sunny\",\n",
    "}"
   ]
  },
  {
   "cell_type": "code",
   "execution_count": 2,
   "metadata": {},
   "outputs": [],
   "source": [
    "def convert_and_save(data, file_path):\n",
    "    image_data = b64decode(data)\n",
    "    with open(file_path, mode=\"wb\") as png:\n",
    "        png.write(image_data)\n",
    "\n",
    "#\n",
    "# Promts\n",
    "#\n",
    "\n",
    "# generate_images(\"City place in rainy weather\",1,outfolder=\"out\")\n",
    "def generate_images(promt, count = 1, api_key = os.getenv(\"OPENAI_API_KEY\"), outfolder = \"\", size= \"256x256\"):\n",
    "    openai.api_key = api_key\n",
    "    response = openai.Image.create(\n",
    "    prompt=promt,\n",
    "    n=count,\n",
    "    size=size,\n",
    "    response_format=\"b64_json\")\n",
    "    for i,image in enumerate(response[\"data\"]):\n",
    "        convert_and_save(image[\"b64_json\"],f\"{outfolder}/{datetime.now().strftime('%Y%m%d%H%M%S')}_{i}.png\")\n",
    "\n",
    "#generate_promts(WeatherType.cloudy, count=24)\n",
    "def generate_promts(weatherType: WeatherType, count= 10):\n",
    "    images_per_loc = count //len(locations) \n",
    "    return [(base%(loc,weatherStrings[weatherType]),images_per_loc+1 if count % len(locations) > i else images_per_loc) for i,loc in enumerate(locations) if count > i]\n",
    "\n",
    "def generate_images_for_type(weatherType: WeatherType, count = 1, api_key = os.getenv(\"OPENAI_API_KEY\"), outfolder = \"\", size= \"256x256\"):\n",
    "    os.makedirs(outfolder, exist_ok=True)\n",
    "    prompts = generate_promts(weatherType=weatherType,count=count)\n",
    "    for prompt, count_prompt in tqdm(prompts):\n",
    "        success = False\n",
    "        error_counter = 0\n",
    "        while(not success):\n",
    "            try:\n",
    "                generate_images(promt=prompt,count=count_prompt,api_key = api_key,outfolder=outfolder,size=size)\n",
    "                success = True\n",
    "            except openai.error.OpenAIError as e:\n",
    "                if error_counter > 5:\n",
    "                    print(f\"Aborting...\")\n",
    "                    return\n",
    "                print(e.error,f\"... Retrying in {2**error_counter} second(s)\")\n",
    "                time.sleep(2**error_counter)\n",
    "                error_counter += 1\n",
    "\n",
    "#\n",
    "# Varations\n",
    "#\n",
    "\n",
    "\n",
    "#generate_variations(r\"../data/kaggle-5-class-weather-dataset-resized/cloudy/cloudy-0.jpg\",1,outfolder=\"out\")\n",
    "tempPath = 'temp.png'\n",
    "def generate_variations(image_path, count = 1, api_key = os.getenv(\"OPENAI_API_KEY\"), outfolder = \"\", size= \"256x256\"):\n",
    "    Image.open(image_path).save(tempPath)\n",
    "    openai.api_key = api_key\n",
    "    response = openai.Image.create_variation(\n",
    "    image=open(tempPath, \"rb\"),\n",
    "    n=count,\n",
    "    size=size,\n",
    "    response_format=\"b64_json\")\n",
    "    os.remove(tempPath)\n",
    "    for i,image in enumerate(response[\"data\"]):\n",
    "        convert_and_save(image[\"b64_json\"],f\"{outfolder}/{datetime.now().strftime('%Y%m%d%H%M%S')}_{i}.png\")\n",
    "\n",
    "def generate_varation_paths(input_folder,count= 10):\n",
    "    image_paths = glob(f\"{input_folder}/*\")\n",
    "    random.shuffle(image_paths)\n",
    "    images_per_path = count // len(image_paths) \n",
    "    return [(img,images_per_path+1 if count % len(image_paths) > i else images_per_path) for i,img in enumerate(image_paths) if count > i]\n",
    "\n",
    "def generate_varations_of_folder(input_folder, count = 1, api_key = os.getenv(\"OPENAI_API_KEY\"), outfolder = \"\", size= \"256x256\"):\n",
    "    os.makedirs(outfolder, exist_ok=True)\n",
    "    prompts = generate_varation_paths(input_folder,count=count)\n",
    "    for prompt, count_prompt in tqdm(prompts):\n",
    "        success = False\n",
    "        error_counter = 0\n",
    "        while(not success):\n",
    "            try:\n",
    "                generate_variations(image_path=prompt,count=count_prompt,api_key = api_key,outfolder=outfolder,size=size)\n",
    "                success = True\n",
    "            except openai.error.OpenAIError as e:\n",
    "                if error_counter > 5:\n",
    "                    print(f\"Aborting...\")\n",
    "                    return\n",
    "                print(e.error,f\"... Retrying in {2**error_counter} second(s)\")\n",
    "                time.sleep(2**error_counter)\n",
    "                error_counter += 1\n"
   ]
  },
  {
   "cell_type": "code",
   "execution_count": null,
   "metadata": {},
   "outputs": [],
   "source": [
    "api_key=\"<api key here>\" # TODO"
   ]
  },
  {
   "cell_type": "code",
   "execution_count": 3,
   "metadata": {},
   "outputs": [
    {
     "data": {
      "application/vnd.jupyter.widget-view+json": {
       "model_id": "7bc9d17b041042b7b22b4dddf46b2ec8",
       "version_major": 2,
       "version_minor": 0
      },
      "text/plain": [
       "Types:   0%|          | 0/5 [00:00<?, ?it/s]"
      ]
     },
     "metadata": {},
     "output_type": "display_data"
    },
    {
     "data": {
      "application/vnd.jupyter.widget-view+json": {
       "model_id": "30dd9b0db98c47d9888317e2bb0b1a20",
       "version_major": 2,
       "version_minor": 0
      },
      "text/plain": [
       "  0%|          | 0/12 [00:00<?, ?it/s]"
      ]
     },
     "metadata": {},
     "output_type": "display_data"
    },
    {
     "data": {
      "application/vnd.jupyter.widget-view+json": {
       "model_id": "b4a31335a8874f95b2006a923396b9b9",
       "version_major": 2,
       "version_minor": 0
      },
      "text/plain": [
       "  0%|          | 0/12 [00:00<?, ?it/s]"
      ]
     },
     "metadata": {},
     "output_type": "display_data"
    },
    {
     "name": "stdout",
     "output_type": "stream",
     "text": [
      "{\n",
      "  \"code\": null,\n",
      "  \"message\": \"Rate limit reached for images per minute. Limit: 50/1min. Current: 52/1min. Please visit https://help.openai.com/en/articles/6696591 to learn how to increase your rate limit.\",\n",
      "  \"param\": null,\n",
      "  \"type\": \"requests\"\n",
      "} ... Retrying in 1 second(s)\n",
      "{\n",
      "  \"code\": null,\n",
      "  \"message\": \"Rate limit reached for images per minute. Limit: 50/1min. Current: 52/1min. Please visit https://help.openai.com/en/articles/6696591 to learn how to increase your rate limit.\",\n",
      "  \"param\": null,\n",
      "  \"type\": \"requests\"\n",
      "} ... Retrying in 2 second(s)\n",
      "{\n",
      "  \"code\": null,\n",
      "  \"message\": \"Rate limit reached for images per minute. Limit: 50/1min. Current: 52/1min. Please visit https://help.openai.com/en/articles/6696591 to learn how to increase your rate limit.\",\n",
      "  \"param\": null,\n",
      "  \"type\": \"requests\"\n",
      "} ... Retrying in 4 second(s)\n",
      "{\n",
      "  \"code\": null,\n",
      "  \"message\": \"Rate limit reached for images per minute. Limit: 50/1min. Current: 52/1min. Please visit https://help.openai.com/en/articles/6696591 to learn how to increase your rate limit.\",\n",
      "  \"param\": null,\n",
      "  \"type\": \"requests\"\n",
      "} ... Retrying in 8 second(s)\n",
      "{\n",
      "  \"code\": null,\n",
      "  \"message\": \"Rate limit reached for images per minute. Limit: 50/1min. Current: 56/1min. Please visit https://help.openai.com/en/articles/6696591 to learn how to increase your rate limit.\",\n",
      "  \"param\": null,\n",
      "  \"type\": \"requests\"\n",
      "} ... Retrying in 1 second(s)\n",
      "{\n",
      "  \"code\": null,\n",
      "  \"message\": \"Rate limit reached for images per minute. Limit: 50/1min. Current: 56/1min. Please visit https://help.openai.com/en/articles/6696591 to learn how to increase your rate limit.\",\n",
      "  \"param\": null,\n",
      "  \"type\": \"requests\"\n",
      "} ... Retrying in 2 second(s)\n",
      "{\n",
      "  \"code\": null,\n",
      "  \"message\": \"Rate limit reached for images per minute. Limit: 50/1min. Current: 56/1min. Please visit https://help.openai.com/en/articles/6696591 to learn how to increase your rate limit.\",\n",
      "  \"param\": null,\n",
      "  \"type\": \"requests\"\n",
      "} ... Retrying in 4 second(s)\n"
     ]
    },
    {
     "data": {
      "application/vnd.jupyter.widget-view+json": {
       "model_id": "4b78f2acf4d846ddb3257739add58863",
       "version_major": 2,
       "version_minor": 0
      },
      "text/plain": [
       "  0%|          | 0/12 [00:00<?, ?it/s]"
      ]
     },
     "metadata": {},
     "output_type": "display_data"
    },
    {
     "name": "stdout",
     "output_type": "stream",
     "text": [
      "{\n",
      "  \"code\": null,\n",
      "  \"message\": \"Rate limit reached for images per minute. Limit: 50/1min. Current: 52/1min. Please visit https://help.openai.com/en/articles/6696591 to learn how to increase your rate limit.\",\n",
      "  \"param\": null,\n",
      "  \"type\": \"requests\"\n",
      "} ... Retrying in 1 second(s)\n",
      "{\n",
      "  \"code\": null,\n",
      "  \"message\": \"Rate limit reached for images per minute. Limit: 50/1min. Current: 52/1min. Please visit https://help.openai.com/en/articles/6696591 to learn how to increase your rate limit.\",\n",
      "  \"param\": null,\n",
      "  \"type\": \"requests\"\n",
      "} ... Retrying in 2 second(s)\n",
      "{\n",
      "  \"code\": null,\n",
      "  \"message\": \"Rate limit reached for images per minute. Limit: 50/1min. Current: 52/1min. Please visit https://help.openai.com/en/articles/6696591 to learn how to increase your rate limit.\",\n",
      "  \"param\": null,\n",
      "  \"type\": \"requests\"\n",
      "} ... Retrying in 4 second(s)\n",
      "{\n",
      "  \"code\": null,\n",
      "  \"message\": \"Rate limit reached for images per minute. Limit: 50/1min. Current: 52/1min. Please visit https://help.openai.com/en/articles/6696591 to learn how to increase your rate limit.\",\n",
      "  \"param\": null,\n",
      "  \"type\": \"requests\"\n",
      "} ... Retrying in 8 second(s)\n",
      "{\n",
      "  \"code\": null,\n",
      "  \"message\": \"Rate limit reached for images per minute. Limit: 50/1min. Current: 54/1min. Please visit https://help.openai.com/en/articles/6696591 to learn how to increase your rate limit.\",\n",
      "  \"param\": null,\n",
      "  \"type\": \"requests\"\n",
      "} ... Retrying in 1 second(s)\n",
      "{\n",
      "  \"code\": null,\n",
      "  \"message\": \"Rate limit reached for images per minute. Limit: 50/1min. Current: 54/1min. Please visit https://help.openai.com/en/articles/6696591 to learn how to increase your rate limit.\",\n",
      "  \"param\": null,\n",
      "  \"type\": \"requests\"\n",
      "} ... Retrying in 2 second(s)\n",
      "{\n",
      "  \"code\": null,\n",
      "  \"message\": \"Rate limit reached for images per minute. Limit: 50/1min. Current: 54/1min. Please visit https://help.openai.com/en/articles/6696591 to learn how to increase your rate limit.\",\n",
      "  \"param\": null,\n",
      "  \"type\": \"requests\"\n",
      "} ... Retrying in 4 second(s)\n",
      "{\n",
      "  \"code\": null,\n",
      "  \"message\": \"Rate limit reached for images per minute. Limit: 50/1min. Current: 54/1min. Please visit https://help.openai.com/en/articles/6696591 to learn how to increase your rate limit.\",\n",
      "  \"param\": null,\n",
      "  \"type\": \"requests\"\n",
      "} ... Retrying in 8 second(s)\n"
     ]
    },
    {
     "data": {
      "application/vnd.jupyter.widget-view+json": {
       "model_id": "2c2fb0e163b040d4b2909d7ebaf9b7a7",
       "version_major": 2,
       "version_minor": 0
      },
      "text/plain": [
       "  0%|          | 0/12 [00:00<?, ?it/s]"
      ]
     },
     "metadata": {},
     "output_type": "display_data"
    },
    {
     "name": "stdout",
     "output_type": "stream",
     "text": [
      "{\n",
      "  \"code\": null,\n",
      "  \"message\": \"Rate limit reached for images per minute. Limit: 50/1min. Current: 53/1min. Please visit https://help.openai.com/en/articles/6696591 to learn how to increase your rate limit.\",\n",
      "  \"param\": null,\n",
      "  \"type\": \"requests\"\n",
      "} ... Retrying in 1 second(s)\n",
      "{\n",
      "  \"code\": null,\n",
      "  \"message\": \"Rate limit reached for images per minute. Limit: 50/1min. Current: 53/1min. Please visit https://help.openai.com/en/articles/6696591 to learn how to increase your rate limit.\",\n",
      "  \"param\": null,\n",
      "  \"type\": \"requests\"\n",
      "} ... Retrying in 2 second(s)\n",
      "{\n",
      "  \"code\": null,\n",
      "  \"message\": \"Rate limit reached for images per minute. Limit: 50/1min. Current: 53/1min. Please visit https://help.openai.com/en/articles/6696591 to learn how to increase your rate limit.\",\n",
      "  \"param\": null,\n",
      "  \"type\": \"requests\"\n",
      "} ... Retrying in 4 second(s)\n",
      "{\n",
      "  \"code\": null,\n",
      "  \"message\": \"Rate limit reached for images per minute. Limit: 50/1min. Current: 53/1min. Please visit https://help.openai.com/en/articles/6696591 to learn how to increase your rate limit.\",\n",
      "  \"param\": null,\n",
      "  \"type\": \"requests\"\n",
      "} ... Retrying in 8 second(s)\n",
      "{\n",
      "  \"code\": null,\n",
      "  \"message\": \"Rate limit reached for images per minute. Limit: 50/1min. Current: 53/1min. Please visit https://help.openai.com/en/articles/6696591 to learn how to increase your rate limit.\",\n",
      "  \"param\": null,\n",
      "  \"type\": \"requests\"\n",
      "} ... Retrying in 16 second(s)\n",
      "{\n",
      "  \"code\": null,\n",
      "  \"message\": \"Rate limit reached for images per minute. Limit: 50/1min. Current: 52/1min. Please visit https://help.openai.com/en/articles/6696591 to learn how to increase your rate limit.\",\n",
      "  \"param\": null,\n",
      "  \"type\": \"requests\"\n",
      "} ... Retrying in 1 second(s)\n",
      "{\n",
      "  \"code\": null,\n",
      "  \"message\": \"Rate limit reached for images per minute. Limit: 50/1min. Current: 52/1min. Please visit https://help.openai.com/en/articles/6696591 to learn how to increase your rate limit.\",\n",
      "  \"param\": null,\n",
      "  \"type\": \"requests\"\n",
      "} ... Retrying in 2 second(s)\n"
     ]
    },
    {
     "data": {
      "application/vnd.jupyter.widget-view+json": {
       "model_id": "d7126685fbd64a398eea80f86d5eff5f",
       "version_major": 2,
       "version_minor": 0
      },
      "text/plain": [
       "  0%|          | 0/12 [00:00<?, ?it/s]"
      ]
     },
     "metadata": {},
     "output_type": "display_data"
    },
    {
     "name": "stdout",
     "output_type": "stream",
     "text": [
      "{\n",
      "  \"code\": null,\n",
      "  \"message\": \"Rate limit reached for images per minute. Limit: 50/1min. Current: 55/1min. Please visit https://help.openai.com/en/articles/6696591 to learn how to increase your rate limit.\",\n",
      "  \"param\": null,\n",
      "  \"type\": \"requests\"\n",
      "} ... Retrying in 1 second(s)\n",
      "{\n",
      "  \"code\": null,\n",
      "  \"message\": \"Rate limit reached for images per minute. Limit: 50/1min. Current: 55/1min. Please visit https://help.openai.com/en/articles/6696591 to learn how to increase your rate limit.\",\n",
      "  \"param\": null,\n",
      "  \"type\": \"requests\"\n",
      "} ... Retrying in 2 second(s)\n",
      "{\n",
      "  \"code\": null,\n",
      "  \"message\": \"Rate limit reached for images per minute. Limit: 50/1min. Current: 55/1min. Please visit https://help.openai.com/en/articles/6696591 to learn how to increase your rate limit.\",\n",
      "  \"param\": null,\n",
      "  \"type\": \"requests\"\n",
      "} ... Retrying in 4 second(s)\n",
      "{\n",
      "  \"code\": null,\n",
      "  \"message\": \"Rate limit reached for images per minute. Limit: 50/1min. Current: 55/1min. Please visit https://help.openai.com/en/articles/6696591 to learn how to increase your rate limit.\",\n",
      "  \"param\": null,\n",
      "  \"type\": \"requests\"\n",
      "} ... Retrying in 8 second(s)\n",
      "{\n",
      "  \"code\": null,\n",
      "  \"message\": \"Rate limit reached for images per minute. Limit: 50/1min. Current: 55/1min. Please visit https://help.openai.com/en/articles/6696591 to learn how to increase your rate limit.\",\n",
      "  \"param\": null,\n",
      "  \"type\": \"requests\"\n",
      "} ... Retrying in 16 second(s)\n"
     ]
    }
   ],
   "source": [
    "total_count = 400\n",
    "count = total_count // len(WeatherType)\n",
    "for x in tqdm(WeatherType,\"Types\"):\n",
    "    generate_images_for_type(weatherType=x,count=count, outfolder=f\"out/prompt400/{weatherStrings[x]}\", api_key=api_key)"
   ]
  },
  {
   "cell_type": "code",
   "execution_count": 4,
   "metadata": {},
   "outputs": [
    {
     "data": {
      "application/vnd.jupyter.widget-view+json": {
       "model_id": "9121952772244017a44f3a000fcf3d79",
       "version_major": 2,
       "version_minor": 0
      },
      "text/plain": [
       "Types:   0%|          | 0/5 [00:00<?, ?it/s]"
      ]
     },
     "metadata": {},
     "output_type": "display_data"
    },
    {
     "data": {
      "application/vnd.jupyter.widget-view+json": {
       "model_id": "8f00198944ed4b949c20de06734e4570",
       "version_major": 2,
       "version_minor": 0
      },
      "text/plain": [
       "  0%|          | 0/50 [00:00<?, ?it/s]"
      ]
     },
     "metadata": {},
     "output_type": "display_data"
    },
    {
     "data": {
      "application/vnd.jupyter.widget-view+json": {
       "model_id": "0a47bcb185da47ec914a6519e33a1111",
       "version_major": 2,
       "version_minor": 0
      },
      "text/plain": [
       "  0%|          | 0/50 [00:00<?, ?it/s]"
      ]
     },
     "metadata": {},
     "output_type": "display_data"
    },
    {
     "data": {
      "application/vnd.jupyter.widget-view+json": {
       "model_id": "897e69dace6142f1afb986279faa2e7c",
       "version_major": 2,
       "version_minor": 0
      },
      "text/plain": [
       "  0%|          | 0/50 [00:00<?, ?it/s]"
      ]
     },
     "metadata": {},
     "output_type": "display_data"
    },
    {
     "data": {
      "application/vnd.jupyter.widget-view+json": {
       "model_id": "cbe8e9b4fd4b43a7b9973e17d6691b53",
       "version_major": 2,
       "version_minor": 0
      },
      "text/plain": [
       "  0%|          | 0/50 [00:00<?, ?it/s]"
      ]
     },
     "metadata": {},
     "output_type": "display_data"
    },
    {
     "data": {
      "application/vnd.jupyter.widget-view+json": {
       "model_id": "b449a1b1c5f34a40a7e6edcddf350c99",
       "version_major": 2,
       "version_minor": 0
      },
      "text/plain": [
       "  0%|          | 0/50 [00:00<?, ?it/s]"
      ]
     },
     "metadata": {},
     "output_type": "display_data"
    }
   ],
   "source": [
    "#path_base =\"../data/kaggle-5-class-weather-dataset-resized/\"\n",
    "path_base =\"../data/kaggle-rome-weather-dataset-resized/\"\n",
    "total_count = 400\n",
    "count = total_count // len(WeatherType)\n",
    "for x in tqdm(WeatherType,\"Types\"):\n",
    "    path = f\"{path_base}{weatherStrings[x]}\"\n",
    "    generate_varations_of_folder(input_folder=path,count=count, outfolder=f\"out/variations_rome/{weatherStrings[x]}\", api_key=api_key)"
   ]
  }
 ],
 "metadata": {
  "kernelspec": {
   "display_name": "cov2",
   "language": "python",
   "name": "python3"
  },
  "language_info": {
   "codemirror_mode": {
    "name": "ipython",
    "version": 3
   },
   "file_extension": ".py",
   "mimetype": "text/x-python",
   "name": "python",
   "nbconvert_exporter": "python",
   "pygments_lexer": "ipython3",
   "version": "3.9.16"
  },
  "orig_nbformat": 4,
  "vscode": {
   "interpreter": {
    "hash": "6244892f17568decaac06bf87dbd45a463bfbe02f1d27ba9fc3dd2fd9ab0eedf"
   }
  }
 },
 "nbformat": 4,
 "nbformat_minor": 2
}
