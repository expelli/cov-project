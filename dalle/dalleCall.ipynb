{
 "cells": [
  {
   "cell_type": "code",
   "execution_count": 1,
   "metadata": {},
   "outputs": [],
   "source": [
    "import os\n",
    "from base64 import b64decode\n",
    "import openai\n",
    "from datetime import datetime \n",
    "from tqdm.notebook import tqdm\n",
    "from enum import Enum\n",
    "import time\n",
    "from glob import glob\n",
    "from PIL import Image\n",
    "import random\n",
    "\n",
    "class WeatherType(Enum):\n",
    "    cloudy = 1,\n",
    "    foggy = 2,\n",
    "    rainy =3 ,\n",
    "    snowy = 4,\n",
    "    sunny =5\n",
    "\n",
    "base = \"%s in %s weather\"\n",
    "\n",
    "locations = [\"city place\", \"country road\", \"city\",\"county side\",\"mountain\",\"city road\", \"buildings\",\"garden\",\"river\",\"forrest\",\"sea\", \"island\"]\n",
    "\n",
    "weatherStrings = {\n",
    "    WeatherType.cloudy:\"cloudy\",\n",
    "    WeatherType.foggy:\"foggy\",\n",
    "    WeatherType.rainy:\"rainy\",\n",
    "    WeatherType.snowy:\"snowy\",\n",
    "    WeatherType.sunny:\"sunny\",\n",
    "}"
   ]
  },
  {
   "cell_type": "code",
   "execution_count": 31,
   "metadata": {},
   "outputs": [],
   "source": [
    "def convert_and_save(data, file_path):\n",
    "    image_data = b64decode(data)\n",
    "    with open(file_path, mode=\"wb\") as png:\n",
    "        png.write(image_data)\n",
    "\n",
    "#\n",
    "# Promts\n",
    "#\n",
    "\n",
    "# generate_images(\"City place in rainy weather\",1,outfolder=\"out\")\n",
    "def generate_images(promt, count = 1, api_key = os.getenv(\"OPENAI_API_KEY\"), outfolder = \"\", size= \"256x256\"):\n",
    "    openai.api_key = api_key\n",
    "    response = openai.Image.create(\n",
    "    prompt=promt,\n",
    "    n=count,\n",
    "    size=size,\n",
    "    response_format=\"b64_json\")\n",
    "    for i,image in enumerate(response[\"data\"]):\n",
    "        convert_and_save(image[\"b64_json\"],f\"{outfolder}/{datetime.now().strftime('%Y%m%d%H%M%S')}_{i}.png\")\n",
    "\n",
    "#generate_promts(WeatherType.cloudy, count=24)\n",
    "def generate_promts(weatherType: WeatherType, count= 10):\n",
    "    images_per_loc = count //len(locations) \n",
    "    return [(base%(loc,weatherStrings[weatherType]),images_per_loc+1 if count % len(locations) > i else images_per_loc) for i,loc in enumerate(locations) if count > i]\n",
    "\n",
    "def generate_images_for_type(weatherType: WeatherType, count = 1, api_key = os.getenv(\"OPENAI_API_KEY\"), outfolder = \"\", size= \"256x256\"):\n",
    "    os.makedirs(outfolder, exist_ok=True)\n",
    "    prompts = generate_promts(weatherType=weatherType,count=count)\n",
    "    for prompt, count_prompt in tqdm(prompts):\n",
    "        success = False\n",
    "        error_counter = 0\n",
    "        while(not success):\n",
    "            try:\n",
    "                generate_images(promt=prompt,count=count_prompt,api_key = api_key,outfolder=outfolder,size=size)\n",
    "                success = True\n",
    "            except openai.error.OpenAIError as e:\n",
    "                if error_counter > 5:\n",
    "                    print(f\"Aborting...\")\n",
    "                    return\n",
    "                print(e.error,f\"... Retrying in {2**error_counter} second(s)\")\n",
    "                time.sleep(2**error_counter)\n",
    "                error_counter += 1\n",
    "\n",
    "#\n",
    "# Varations\n",
    "#\n",
    "\n",
    "\n",
    "#generate_variations(r\"../data/kaggle-5-class-weather-dataset-resized/cloudy/cloudy-0.jpg\",1,outfolder=\"out\")\n",
    "tempPath = 'temp.png'\n",
    "def generate_variations(image_path, count = 1, api_key = os.getenv(\"OPENAI_API_KEY\"), outfolder = \"\", size= \"256x256\"):\n",
    "    Image.open(image_path).save(tempPath)\n",
    "    openai.api_key = api_key\n",
    "    response = openai.Image.create_variation(\n",
    "    image=open(tempPath, \"rb\"),\n",
    "    n=count,\n",
    "    size=size,\n",
    "    response_format=\"b64_json\")\n",
    "    os.remove(tempPath)\n",
    "    for i,image in enumerate(response[\"data\"]):\n",
    "        convert_and_save(image[\"b64_json\"],f\"{outfolder}/{datetime.now().strftime('%Y%m%d%H%M%S')}_{i}.png\")\n",
    "\n",
    "def generate_varation_paths(input_folder,blacklist_folder,count= 10):\n",
    "    image_paths = glob(f\"{input_folder}/*\")\n",
    "    blacklist_names =[os.path.split(name)[1] for name in glob(f\"{blacklist_folder}/*\")]\n",
    "    image_paths_clean = [x for x in image_paths if os.path.split(x)[1]  not in blacklist_names]\n",
    "\n",
    "    random.shuffle(image_paths_clean)\n",
    "    images_per_path = count // len(image_paths_clean) \n",
    "    return [(img,images_per_path+1 if count % len(image_paths_clean) > i else images_per_path) for i,img in enumerate(image_paths_clean) if count > i]\n",
    "\n",
    "def generate_varations_of_folder(input_folder,black_list_folder= [], count = 1, api_key = os.getenv(\"OPENAI_API_KEY\"), outfolder = \"\", size= \"256x256\"):\n",
    "    os.makedirs(outfolder, exist_ok=True)\n",
    "    prompts = generate_varation_paths(input_folder,black_list_folder,count=count)\n",
    "    for prompt, count_prompt in tqdm(prompts):\n",
    "        success = False\n",
    "        error_counter = 0\n",
    "        while(not success):\n",
    "            try:\n",
    "                generate_variations(image_path=prompt,count=count_prompt,api_key = api_key,outfolder=outfolder,size=size)\n",
    "                success = True\n",
    "            except openai.error.OpenAIError as e:\n",
    "                if error_counter > 5:\n",
    "                    print(f\"Aborting...\")\n",
    "                    return\n",
    "                print(e.error,f\"... Retrying in {2**error_counter} second(s)\")\n",
    "                time.sleep(2**error_counter)\n",
    "                error_counter += 1\n"
   ]
  },
  {
   "cell_type": "code",
   "execution_count": 3,
   "metadata": {},
   "outputs": [],
   "source": [
    "api_key=\"<Key Here>\" # TODO"
   ]
  },
  {
   "cell_type": "code",
   "execution_count": 4,
   "metadata": {},
   "outputs": [
    {
     "data": {
      "application/vnd.jupyter.widget-view+json": {
       "model_id": "b2c5b6e2e1884c1bbb52252e8701427b",
       "version_major": 2,
       "version_minor": 0
      },
      "text/plain": [
       "Types:   0%|          | 0/5 [00:00<?, ?it/s]"
      ]
     },
     "metadata": {},
     "output_type": "display_data"
    },
    {
     "data": {
      "application/vnd.jupyter.widget-view+json": {
       "model_id": "42ee921d51d7427db62e65fe2f2153ec",
       "version_major": 2,
       "version_minor": 0
      },
      "text/plain": [
       "  0%|          | 0/1 [00:00<?, ?it/s]"
      ]
     },
     "metadata": {},
     "output_type": "display_data"
    },
    {
     "data": {
      "application/vnd.jupyter.widget-view+json": {
       "model_id": "370d5230258a4180ac4b154570f4f9df",
       "version_major": 2,
       "version_minor": 0
      },
      "text/plain": [
       "  0%|          | 0/1 [00:00<?, ?it/s]"
      ]
     },
     "metadata": {},
     "output_type": "display_data"
    },
    {
     "data": {
      "application/vnd.jupyter.widget-view+json": {
       "model_id": "adc2ac3b320a42618257a53167611cff",
       "version_major": 2,
       "version_minor": 0
      },
      "text/plain": [
       "  0%|          | 0/1 [00:00<?, ?it/s]"
      ]
     },
     "metadata": {},
     "output_type": "display_data"
    },
    {
     "data": {
      "application/vnd.jupyter.widget-view+json": {
       "model_id": "e9135eba359549d4a1f15d8b05b827d0",
       "version_major": 2,
       "version_minor": 0
      },
      "text/plain": [
       "  0%|          | 0/1 [00:00<?, ?it/s]"
      ]
     },
     "metadata": {},
     "output_type": "display_data"
    },
    {
     "data": {
      "application/vnd.jupyter.widget-view+json": {
       "model_id": "463d24cc6a1245328b0d72a41f38348a",
       "version_major": 2,
       "version_minor": 0
      },
      "text/plain": [
       "  0%|          | 0/1 [00:00<?, ?it/s]"
      ]
     },
     "metadata": {},
     "output_type": "display_data"
    }
   ],
   "source": [
    "total_count = 5\n",
    "count = total_count // len(WeatherType)\n",
    "for x in tqdm(WeatherType,\"Types\"):\n",
    "    generate_images_for_type(weatherType=x,count=count, outfolder=f\"out/prompt400/{weatherStrings[x]}\", api_key=api_key)"
   ]
  },
  {
   "cell_type": "code",
   "execution_count": 29,
   "metadata": {},
   "outputs": [
    {
     "data": {
      "text/plain": [
       "['../data/rome-validation//rainy\\\\Rainy-0.jpg',\n",
       " '../data/rome-validation//rainy\\\\Rainy-1.jpg',\n",
       " '../data/rome-validation//rainy\\\\Rainy-10.jpg',\n",
       " '../data/rome-validation//rainy\\\\Rainy-11.jpg',\n",
       " '../data/rome-validation//rainy\\\\Rainy-12.jpg',\n",
       " '../data/rome-validation//rainy\\\\Rainy-13.jpg',\n",
       " '../data/rome-validation//rainy\\\\Rainy-14.jpg',\n",
       " '../data/rome-validation//rainy\\\\Rainy-15.jpg',\n",
       " '../data/rome-validation//rainy\\\\Rainy-16.jpg',\n",
       " '../data/rome-validation//rainy\\\\Rainy-17.jpg']"
      ]
     },
     "execution_count": 29,
     "metadata": {},
     "output_type": "execute_result"
    }
   ],
   "source": [
    "black_list_folder = \"../data/rome-validation/\"\n",
    "glob(f\"{black_list_folder}/rainy/*\")"
   ]
  },
  {
   "cell_type": "code",
   "execution_count": 33,
   "metadata": {},
   "outputs": [
    {
     "data": {
      "application/vnd.jupyter.widget-view+json": {
       "model_id": "afdf2f57502f4e019685c0aaa48f32d0",
       "version_major": 2,
       "version_minor": 0
      },
      "text/plain": [
       "Types:   0%|          | 0/5 [00:00<?, ?it/s]"
      ]
     },
     "metadata": {},
     "output_type": "display_data"
    },
    {
     "data": {
      "application/vnd.jupyter.widget-view+json": {
       "model_id": "c45ceaf1e5c2457884a60ee89be949f9",
       "version_major": 2,
       "version_minor": 0
      },
      "text/plain": [
       "  0%|          | 0/1 [00:00<?, ?it/s]"
      ]
     },
     "metadata": {},
     "output_type": "display_data"
    },
    {
     "data": {
      "application/vnd.jupyter.widget-view+json": {
       "model_id": "d267cc434d8944bd9dabcc940d4c2d0d",
       "version_major": 2,
       "version_minor": 0
      },
      "text/plain": [
       "  0%|          | 0/1 [00:00<?, ?it/s]"
      ]
     },
     "metadata": {},
     "output_type": "display_data"
    },
    {
     "data": {
      "application/vnd.jupyter.widget-view+json": {
       "model_id": "613a4b451d3346eb85e8adeffaf9701e",
       "version_major": 2,
       "version_minor": 0
      },
      "text/plain": [
       "  0%|          | 0/1 [00:00<?, ?it/s]"
      ]
     },
     "metadata": {},
     "output_type": "display_data"
    },
    {
     "data": {
      "application/vnd.jupyter.widget-view+json": {
       "model_id": "b3ba7c4ba97e4ae5923a5d5e1f482e06",
       "version_major": 2,
       "version_minor": 0
      },
      "text/plain": [
       "  0%|          | 0/1 [00:00<?, ?it/s]"
      ]
     },
     "metadata": {},
     "output_type": "display_data"
    },
    {
     "data": {
      "application/vnd.jupyter.widget-view+json": {
       "model_id": "2ce03115789f4dc68300c2e418cc5d8d",
       "version_major": 2,
       "version_minor": 0
      },
      "text/plain": [
       "  0%|          | 0/1 [00:00<?, ?it/s]"
      ]
     },
     "metadata": {},
     "output_type": "display_data"
    }
   ],
   "source": [
    "#path_base =\"../data/kaggle-5-class-weather-dataset-resized/\"\n",
    "path_base =\"../data/kaggle-rome-weather-dataset-resized/\"\n",
    "total_count = 5\n",
    "count = total_count // len(WeatherType)\n",
    "for x in tqdm(WeatherType,\"Types\"):\n",
    "    path = f\"{path_base}{weatherStrings[x]}\"\n",
    "    black_path = f\"{black_list_folder}{weatherStrings[x]}\"\n",
    "    generate_varations_of_folder(input_folder=path,black_list_folder=black_path,count=count, outfolder=f\"out/variations_rome/{weatherStrings[x]}\", api_key=api_key)"
   ]
  },
  {
   "cell_type": "code",
   "execution_count": 5,
   "metadata": {},
   "outputs": [],
   "source": [
    "generate_images(\"city place in sunny weather\",2,outfolder=\"out\",api_key=api_key)"
   ]
  },
  {
   "cell_type": "code",
   "execution_count": 9,
   "metadata": {},
   "outputs": [],
   "source": [
    "generate_variations(r\"../data/kaggle-5-class-weather-dataset-resized/cloudy/cloudy-0.jpg\",1,outfolder=\"out\",api_key=api_key)"
   ]
  }
 ],
 "metadata": {
  "kernelspec": {
   "display_name": "cov3",
   "language": "python",
   "name": "python3"
  },
  "language_info": {
   "codemirror_mode": {
    "name": "ipython",
    "version": 3
   },
   "file_extension": ".py",
   "mimetype": "text/x-python",
   "name": "python",
   "nbconvert_exporter": "python",
   "pygments_lexer": "ipython3",
   "version": "3.9.16"
  },
  "orig_nbformat": 4,
  "vscode": {
   "interpreter": {
    "hash": "7070d7adbab732536563cbad7cf8efbb155625314eed6bad1fa784b774efd8c9"
   }
  }
 },
 "nbformat": 4,
 "nbformat_minor": 2
}
