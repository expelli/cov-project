{
 "cells": [
  {
   "cell_type": "code",
   "execution_count": 2,
   "metadata": {},
   "outputs": [],
   "source": [
    "import os\n",
    "from base64 import b64decode\n",
    "import openai\n",
    "from datetime import datetime \n",
    "from tqdm.notebook import tqdm\n",
    "from enum import Enum\n",
    "\n",
    "class WeatherType(Enum):\n",
    "    cloudy = 1,\n",
    "    foggy = 2,\n",
    "    rainy =3 ,\n",
    "    snowy = 4,\n",
    "    sunny =5"
   ]
  },
  {
   "cell_type": "code",
   "execution_count": 4,
   "metadata": {},
   "outputs": [],
   "source": [
    "def convert_and_save(data, file_path):\n",
    "    image_data = b64decode(data)\n",
    "    with open(file_path, mode=\"wb\") as png:\n",
    "        png.write(image_data)\n",
    "\n",
    "# generate_images(\"City place in rainy weather\",1,outfolder=\"out\")\n",
    "def generate_images(promt, count = 1, api_key = os.getenv(\"OPENAI_API_KEY\"), outfolder = \"\", size= \"256x256\"):\n",
    "    response = openai.Image.create(\n",
    "    prompt=promt,\n",
    "    n=count,\n",
    "    size=size,\n",
    "    response_format=\"b64_json\")\n",
    "    for i,image in enumerate(response[\"data\"]):\n",
    "        convert_and_save(image[\"b64_json\"],f\"{outfolder}/{datetime.now().strftime('%Y%m%d%H%M%S')}_{i}.png\")\n",
    "\n",
    "def generate_variations(image_path, count = 1, api_key = os.getenv(\"OPENAI_API_KEY\"), outfolder = \"\", size= \"256x256\"):\n",
    "    response = openai.Image.create_variation(\n",
    "    image=open(image_path, \"rb\"),\n",
    "    n=count,\n",
    "    size=size,\n",
    "    response_format=\"b64_json\")\n",
    "    for i,image in enumerate(response[\"data\"]):\n",
    "        convert_and_save(image[\"b64_json\"],f\"{outfolder}/{datetime.now().strftime('%Y%m%d%H%M%S')}_{i}.png\")"
   ]
  },
  {
   "cell_type": "code",
   "execution_count": 5,
   "metadata": {},
   "outputs": [],
   "source": [
    "a='Hello %s! This is %s.'"
   ]
  },
  {
   "cell_type": "code",
   "execution_count": 6,
   "metadata": {},
   "outputs": [
    {
     "data": {
      "text/plain": [
       "'Hello adsf! This is program.'"
      ]
     },
     "execution_count": 6,
     "metadata": {},
     "output_type": "execute_result"
    }
   ],
   "source": [
    "a%(\"adsf\",\"program\")"
   ]
  },
  {
   "cell_type": "code",
   "execution_count": 8,
   "metadata": {},
   "outputs": [],
   "source": [
    "base = \"%s in %s weather\"\n",
    "\n",
    "locations = [\"city place\", \"contry road\", \"city\",\"county side\",\"mountain\",\"city road\", \"buildings\",\"garden\",\"river\",\"forrest\",\"sea\", \"island\"]\n",
    "\n",
    "weatherStrings = {\n",
    "    WeatherType.cloudy:\"cloudy\",\n",
    "    WeatherType.foggy:\"foggy\",\n",
    "    WeatherType.rainy:\"rainy\",\n",
    "    WeatherType.snowy:\"snowy\",\n",
    "    WeatherType.sunny:\"sunny\",\n",
    "}\n",
    "\n",
    "#generate_promts(WeatherType.cloudy, count=24)\n",
    "def generate_promts(weatherType: WeatherType, count= 10):\n",
    "    images_per_loc = count //len(locations) \n",
    "    return [(base%(loc,weatherStrings[weatherType]),images_per_loc+1 if count % len(locations) > i else images_per_loc) for i,loc in enumerate(locations) if count > i]\n",
    "\n",
    "\n",
    "\n",
    "def generate_images_for_type(weatherType: WeatherType, count = 1, api_key = os.getenv(\"OPENAI_API_KEY\"), outfolder = \"\", size= \"256x256\"):\n",
    "    os.makedirs(outfolder, exist_ok=True)\n",
    "    prompts = generate_promts(weatherType=weatherType,count=count)\n",
    "    for prompt, count_prompt in tqdm(prompts):\n",
    "        generate_images(promt=prompt,count=count_prompt,api_key = api_key,outfolder=outfolder,size=size)"
   ]
  },
  {
   "cell_type": "code",
   "execution_count": 12,
   "metadata": {},
   "outputs": [
    {
     "data": {
      "application/vnd.jupyter.widget-view+json": {
       "model_id": "d6f3c905877543c7a9a625672f72d597",
       "version_major": 2,
       "version_minor": 0
      },
      "text/plain": [
       "Types:   0%|          | 0/5 [00:00<?, ?it/s]"
      ]
     },
     "metadata": {},
     "output_type": "display_data"
    },
    {
     "data": {
      "application/vnd.jupyter.widget-view+json": {
       "model_id": "54004be413bc4846b859f9a8c99687a2",
       "version_major": 2,
       "version_minor": 0
      },
      "text/plain": [
       "  0%|          | 0/12 [00:00<?, ?it/s]"
      ]
     },
     "metadata": {},
     "output_type": "display_data"
    },
    {
     "data": {
      "application/vnd.jupyter.widget-view+json": {
       "model_id": "eff73f487208456c8b3be80aa9146733",
       "version_major": 2,
       "version_minor": 0
      },
      "text/plain": [
       "  0%|          | 0/12 [00:00<?, ?it/s]"
      ]
     },
     "metadata": {},
     "output_type": "display_data"
    },
    {
     "data": {
      "application/vnd.jupyter.widget-view+json": {
       "model_id": "a8c59e3e8ab2415a8d79574e63c04fb4",
       "version_major": 2,
       "version_minor": 0
      },
      "text/plain": [
       "  0%|          | 0/12 [00:00<?, ?it/s]"
      ]
     },
     "metadata": {},
     "output_type": "display_data"
    },
    {
     "data": {
      "application/vnd.jupyter.widget-view+json": {
       "model_id": "f3f5b46ecda84155a2af4527d568a1fc",
       "version_major": 2,
       "version_minor": 0
      },
      "text/plain": [
       "  0%|          | 0/12 [00:00<?, ?it/s]"
      ]
     },
     "metadata": {},
     "output_type": "display_data"
    },
    {
     "data": {
      "application/vnd.jupyter.widget-view+json": {
       "model_id": "5f08e3f74ec84cc19fcfea1d320ad654",
       "version_major": 2,
       "version_minor": 0
      },
      "text/plain": [
       "  0%|          | 0/12 [00:00<?, ?it/s]"
      ]
     },
     "metadata": {},
     "output_type": "display_data"
    }
   ],
   "source": [
    "for x in tqdm(WeatherType,\"Types\"):\n",
    "    generate_images_for_type(weatherType=x,count=12, outfolder=f\"out/{weatherStrings[x]}\")"
   ]
  },
  {
   "cell_type": "code",
   "execution_count": 43,
   "metadata": {},
   "outputs": [],
   "source": [
    "generate_variations(r\"C:\\Users\\michi\\Documents\\Schule\\3.Sem Master\\COV\\cov-project\\dalle\\out\\20230206185200_0.png\",2,outfolder=\"out\")"
   ]
  }
 ],
 "metadata": {
  "kernelspec": {
   "display_name": "cov2",
   "language": "python",
   "name": "python3"
  },
  "language_info": {
   "codemirror_mode": {
    "name": "ipython",
    "version": 3
   },
   "file_extension": ".py",
   "mimetype": "text/x-python",
   "name": "python",
   "nbconvert_exporter": "python",
   "pygments_lexer": "ipython3",
   "version": "3.9.16"
  },
  "orig_nbformat": 4,
  "vscode": {
   "interpreter": {
    "hash": "6244892f17568decaac06bf87dbd45a463bfbe02f1d27ba9fc3dd2fd9ab0eedf"
   }
  }
 },
 "nbformat": 4,
 "nbformat_minor": 2
}
