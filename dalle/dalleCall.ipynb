{
 "cells": [
  {
   "cell_type": "code",
   "execution_count": 11,
   "metadata": {},
   "outputs": [],
   "source": [
    "import os\n",
    "from base64 import b64decode\n",
    "import openai\n",
    "from datetime import datetime "
   ]
  },
  {
   "cell_type": "code",
   "execution_count": 17,
   "metadata": {},
   "outputs": [],
   "source": [
    "PROMPT = \"picture of a cloudy day\"\n",
    "\n",
    "openai.api_key = os.getenv(\"OPENAI_API_KEY\")\n",
    "\n",
    "#response = openai.Image.create(\n",
    "#    prompt=PROMPT,\n",
    "#    n=2,\n",
    "#    size=\"256x256\",\n",
    "#    response_format=\"b64_json\"\n",
    "#)\n",
    "\n",
    "for i,image in enumerate(response[\"data\"]):\n",
    "    image_data_b64 = image[\"b64_json\"]\n",
    "    image_data = b64decode(image_data_b64)\n",
    "    image_file = f\"out/{datetime.now().strftime('%Y%m%d%H%M%S')}_{i}.png\"\n",
    "    with open(image_file, mode=\"wb\") as png:\n",
    "        png.write(image_data)"
   ]
  },
  {
   "cell_type": "code",
   "execution_count": 16,
   "metadata": {},
   "outputs": [
    {
     "data": {
      "text/plain": [
       "2"
      ]
     },
     "execution_count": 16,
     "metadata": {},
     "output_type": "execute_result"
    }
   ],
   "source": [
    "len(response['data'])"
   ]
  }
 ],
 "metadata": {
  "kernelspec": {
   "display_name": "cov2",
   "language": "python",
   "name": "python3"
  },
  "language_info": {
   "codemirror_mode": {
    "name": "ipython",
    "version": 3
   },
   "file_extension": ".py",
   "mimetype": "text/x-python",
   "name": "python",
   "nbconvert_exporter": "python",
   "pygments_lexer": "ipython3",
   "version": "3.9.16"
  },
  "orig_nbformat": 4,
  "vscode": {
   "interpreter": {
    "hash": "6244892f17568decaac06bf87dbd45a463bfbe02f1d27ba9fc3dd2fd9ab0eedf"
   }
  }
 },
 "nbformat": 4,
 "nbformat_minor": 2
}
